{
 "cells": [
  {
   "cell_type": "code",
   "execution_count": 1,
   "metadata": {},
   "outputs": [
    {
     "name": "stderr",
     "output_type": "stream",
     "text": [
      "C:\\Users\\LENOVO L 340  7LIN\\AppData\\Local\\Packages\\PythonSoftwareFoundation.Python.3.9_qbz5n2kfra8p0\\LocalCache\\local-packages\\Python39\\site-packages\\scipy\\__init__.py:146: UserWarning: A NumPy version >=1.16.5 and <1.23.0 is required for this version of SciPy (detected version 1.24.3\n",
      "  warnings.warn(f\"A NumPy version >={np_minversion} and <{np_maxversion}\"\n"
     ]
    }
   ],
   "source": [
    "import cv2\n",
    "import numpy as np\n",
    "\n",
    "from sklearn.metrics import pairwise"
   ]
  },
  {
   "cell_type": "code",
   "execution_count": 2,
   "metadata": {},
   "outputs": [],
   "source": [
    "background=None\n",
    "accumulated_weight=0.5\n",
    "\n",
    "roi_top=20\n",
    "roi_bottom=300\n",
    "roi_right=300\n",
    "roi_left=600    #this can also be detected and then sent to function \n"
   ]
  },
  {
   "cell_type": "code",
   "execution_count": 3,
   "metadata": {},
   "outputs": [],
   "source": [
    "#returns a bg comon value pixels\n",
    "def calc_accumulated_avg(frame,accumulated_weight):\n",
    "    global background\n",
    "    if background is None:\n",
    "        background=frame.copy().astype('float')\n",
    "        return None\n",
    "    \n",
    "    cv2.accumulateWeighted(frame,background,accumulated_weight)  #empty bg se common bg mean weight wala create kr dega \n"
   ]
  },
  {
   "cell_type": "code",
   "execution_count": 4,
   "metadata": {},
   "outputs": [],
   "source": [
    "def segment(frame,threshold=25):\n",
    "    diff=cv2.absdiff(background.astype('uint8'),frame)     #detect hand frpm common bg ceeated \n",
    "    ret,thresholded=cv2.threshold(diff,threshold,255,cv2.THRESH_BINARY)\n",
    "    #grab the external countour now after hand chnage pixels are there \n",
    "    image,counours,heirarchy=cv2.findContours(thresholded.copy(),cv2.RETR_EXTERNAL,cv2.CHAIN_APPROX_SIMPLE)\n",
    "\n",
    "    if len(counours)==0:\n",
    "        return None\n",
    "    else:  #largest external countor will be hande \n",
    "        handsegment=max(counours,key=cv2.contourArea)\n",
    "        return ( thresholded,handsegment)\n",
    "    \n"
   ]
  },
  {
   "cell_type": "code",
   "execution_count": 5,
   "metadata": {},
   "outputs": [],
   "source": [
    "#now we ahve the hand ; we have the bg \n",
    "#imlent conve hull now\n",
    "#now how do we find the circle enclosing the count of vertices ?\n",
    "# most extareme point find -->find all intersections -->we get the centre \n",
    "#then we find  distance of fathest point from the centre and using this we are going to draw circle radius jispe fingers cunt hongi\n",
    "def count_fingers(thresholded,hand_segment):\n",
    "    #bg me se thresholf changes wala region\n",
    "    conv_hull=cv2.convexHull(hand_segment)\n",
    "\n",
    "    #grab the conv points now \n",
    "    top=tuple(conv_hull[conv_hull[:,:,1].argmin()[0]]) \n",
    "    bottom=tuple(conv_hull[conv_hull[:,:,1].argmax()[0]]) \n",
    "    left=tuple(conv_hull[conv_hull[:,:,0].argmin()[0]]) \n",
    "    right=tuple(conv_hull[conv_hull[:,:,0].argmax()[0]]) \n",
    "    \n",
    "    cX=(left[0]+right[0]) //2   #we got the centre from the extremen points of hand \n",
    "    cy=(top[1]+bottom[1]) //2\n",
    "\n",
    "    distace=pairwise.euclidean_distances([cX,cy],Y=[left,right,top,bottom])[0]\n",
    "\n",
    "    max_distance=distace.max()\n",
    "\n",
    "    #now drwaing the circle sorrounding the hand by  c of hull\n",
    "\n",
    "    radius=int(0.9*max_distance)\n",
    "    circumference=(2*np.pi*radius)\n",
    "\n",
    "\n",
    "    #now the region of interest -->circle\n",
    "    circular_roi=np.zeros(thresholded[:2],dtype='unit8')\n",
    "    cv2.circle(circular_roi,(cX,cy),radius,255,10)\n",
    "\n",
    "    circular_roi=cv2.bitwise_and(thresholded,thresholded,mask=circular_roi)\n",
    "    image,counours,heirarchy=cv2.findContours(circular_roi.copy(),cv2.RETR_EXTERNAL,cv2.CHAIN_APPROX_NONE)\n",
    "\n",
    "    count=0\n",
    "\n",
    "    for cnt in counours:\n",
    "        (x,y,w,h)=cv2.boundingRect(cnt)\n",
    "        #it must be not much bottom \n",
    "\n",
    "        out_of_wrist=(cy+(cy*0.25))> (y+h)\n",
    "        limit_points=((circumference*0.25)>cnt.shape[0])\n",
    "\n",
    "        if out_of_wrist and limit_points:\n",
    "          cnt+=1  \n",
    "    return cnt\n"
   ]
  },
  {
   "cell_type": "code",
   "execution_count": 6,
   "metadata": {},
   "outputs": [
    {
     "ename": "ValueError",
     "evalue": "not enough values to unpack (expected 3, got 2)",
     "output_type": "error",
     "traceback": [
      "\u001b[1;31m---------------------------------------------------------------------------\u001b[0m",
      "\u001b[1;31mValueError\u001b[0m                                Traceback (most recent call last)",
      "Cell \u001b[1;32mIn[6], line 17\u001b[0m\n\u001b[0;32m     15\u001b[0m         cv2\u001b[39m.\u001b[39mimshow(\u001b[39m'\u001b[39m\u001b[39mFinger Count\u001b[39m\u001b[39m'\u001b[39m,fram_copy)\n\u001b[0;32m     16\u001b[0m \u001b[39melse\u001b[39;00m:\n\u001b[1;32m---> 17\u001b[0m     hand\u001b[39m=\u001b[39msegment(gray)\n\u001b[0;32m     18\u001b[0m     \u001b[39mif\u001b[39;00m hand \u001b[39mis\u001b[39;00m \u001b[39mnot\u001b[39;00m \u001b[39mNone\u001b[39;00m:\n\u001b[0;32m     19\u001b[0m         thresholded,hand_segment\u001b[39m=\u001b[39mhand \u001b[39m#touplt extracct\u001b[39;00m\n",
      "Cell \u001b[1;32mIn[4], line 5\u001b[0m, in \u001b[0;36msegment\u001b[1;34m(frame, threshold)\u001b[0m\n\u001b[0;32m      3\u001b[0m ret,thresholded\u001b[39m=\u001b[39mcv2\u001b[39m.\u001b[39mthreshold(diff,threshold,\u001b[39m255\u001b[39m,cv2\u001b[39m.\u001b[39mTHRESH_BINARY)\n\u001b[0;32m      4\u001b[0m \u001b[39m#grab the external countour now after hand chnage pixels are there \u001b[39;00m\n\u001b[1;32m----> 5\u001b[0m image,counours,heirarchy\u001b[39m=\u001b[39mcv2\u001b[39m.\u001b[39mfindContours(thresholded\u001b[39m.\u001b[39mcopy(),cv2\u001b[39m.\u001b[39mRETR_EXTERNAL,cv2\u001b[39m.\u001b[39mCHAIN_APPROX_SIMPLE)\n\u001b[0;32m      7\u001b[0m \u001b[39mif\u001b[39;00m \u001b[39mlen\u001b[39m(counours)\u001b[39m==\u001b[39m\u001b[39m0\u001b[39m:\n\u001b[0;32m      8\u001b[0m     \u001b[39mreturn\u001b[39;00m \u001b[39mNone\u001b[39;00m\n",
      "\u001b[1;31mValueError\u001b[0m: not enough values to unpack (expected 3, got 2)"
     ]
    },
    {
     "ename": "",
     "evalue": "",
     "output_type": "error",
     "traceback": [
      "\u001b[1;31mThe Kernel crashed while executing code in the the current cell or a previous cell. Please review the code in the cell(s) to identify a possible cause of the failure. Click <a href='https://aka.ms/vscodeJupyterKernelCrash'>here</a> for more info. View Jupyter <a href='command:jupyter.viewOutput'>log</a> for further details."
     ]
    }
   ],
   "source": [
    "#now start the image send to all  functions above \n",
    "cam=cv2.VideoCapture(0)\n",
    "num_frames=0\n",
    "while True:\n",
    "    ret,frame=cam.read()\n",
    "    fram_copy=frame.copy()\n",
    "    roi=frame[roi_top:roi_bottom,roi_right:roi_left]\n",
    "    gray=cv2.cvtColor(roi,cv2.COLOR_BGR2GRAY)\n",
    "    gray=cv2.GaussianBlur(gray,(7,7),0)\n",
    "    if num_frames < 60:\n",
    "        calc_accumulated_avg(gray,accumulated_weight)\n",
    "\n",
    "        if num_frames <= 59:\n",
    "            cv2.putText(fram_copy,'WAIT.GETTING_BG',(200,300),cv2.FONT_HERSHEY_SIMPLEX,1,(0,0,255),2)\n",
    "            cv2.imshow('Finger Count',fram_copy)\n",
    "    else:\n",
    "        hand=segment(gray)\n",
    "        if hand is not None:\n",
    "            thresholded,hand_segment=hand #touplt extracct\n",
    "            #draws contors around real hand \n",
    "            cv2.drawContours(fram_copy,[hand_segment+(roi_right,roi_top)],-1,(255,0,0),5)\n",
    "            \n",
    "            fingers=count_fingers(thresholded,hand_segment)\n",
    "            cv2.putText(fram_copy,str(fingers),(70,50),cv2.FONT_HERSHEY_COMPLEX,1,(0,0,255),2) #lasr wal f size\n",
    "            cv2.imshow('Thresholded',thresholded) #on same to adjuct the bg \n",
    "    cv2.rectangle(fram_copy,(roi_left,roi_top),(roi_right,roi_bottom),(0,0,255),5)\n",
    "    num_frames+=1\n",
    "    cv2.imshow('Finger Count',fram_copy)\n",
    "    k= cv2.waitKey (1) & 0xFF\n",
    "    if k == 27:\n",
    "        break\n",
    "\n",
    "cam.release()\n",
    "cv2.destroyAllWindows()\n",
    "\n",
    "\n",
    "\n",
    "\n",
    "\n",
    "\n",
    "\n",
    "            \n"
   ]
  }
 ],
 "metadata": {
  "kernelspec": {
   "display_name": "Python 3",
   "language": "python",
   "name": "python3"
  },
  "language_info": {
   "codemirror_mode": {
    "name": "ipython",
    "version": 3
   },
   "file_extension": ".py",
   "mimetype": "text/x-python",
   "name": "python",
   "nbconvert_exporter": "python",
   "pygments_lexer": "ipython3",
   "version": "3.9.13"
  },
  "orig_nbformat": 4
 },
 "nbformat": 4,
 "nbformat_minor": 2
}
