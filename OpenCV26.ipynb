{
 "cells": [
  {
   "cell_type": "code",
   "execution_count": 10,
   "metadata": {},
   "outputs": [],
   "source": [
    "#track the object in the video\n",
    "#lucus canade function\n",
    "import numpy as np\n",
    "import cv2"
   ]
  },
  {
   "cell_type": "code",
   "execution_count": 11,
   "metadata": {},
   "outputs": [],
   "source": [
    "#inn evry frame detect 10 conrers and track those\n",
    "corner_track_params=dict(maxCorners=10,qualityLevel=0.7,minDistance=7,blockSize=7)\n"
   ]
  },
  {
   "cell_type": "code",
   "execution_count": 12,
   "metadata": {},
   "outputs": [],
   "source": [
    "lk_params=dict(winSize=(200,200),maxLevel=2,criteria=(cv2.TERM_CRITERIA_EPS| cv2.TERM_CRITERIA_COUNT,10,0.03))\n",
    "  #smaller window me noise zyada hoga learge movement track nhi ho payegenge \n",
    "#larger window  me samller motions nhi track ho payenge \n"
   ]
  },
  {
   "cell_type": "code",
   "execution_count": 14,
   "metadata": {},
   "outputs": [
    {
     "ename": "TypeError",
     "evalue": "'NoneType' object is not subscriptable",
     "output_type": "error",
     "traceback": [
      "\u001b[1;31m---------------------------------------------------------------------------\u001b[0m",
      "\u001b[1;31mTypeError\u001b[0m                                 Traceback (most recent call last)",
      "Cell \u001b[1;32mIn[14], line 17\u001b[0m\n\u001b[0;32m     15\u001b[0m frame_gray\u001b[39m=\u001b[39mcv2\u001b[39m.\u001b[39mcvtColor(frame,cv2\u001b[39m.\u001b[39mCOLOR_BGR2GRAY)\n\u001b[0;32m     16\u001b[0m nextPts ,status,err\u001b[39m=\u001b[39mcv2\u001b[39m.\u001b[39mcalcOpticalFlowPyrLK(prev_gray,frame_gray,prevPts,\u001b[39mNone\u001b[39;00m,\u001b[39m*\u001b[39m\u001b[39m*\u001b[39mlk_params)\n\u001b[1;32m---> 17\u001b[0m good_new\u001b[39m=\u001b[39mnextPts[status\u001b[39m==\u001b[39;49m\u001b[39m1\u001b[39;49m]\n\u001b[0;32m     18\u001b[0m good_prev\u001b[39m=\u001b[39mprevPts[status\u001b[39m==\u001b[39m\u001b[39m1\u001b[39m]   \u001b[39m#status-->flow for feature is found\u001b[39;00m\n\u001b[0;32m     20\u001b[0m \u001b[39mfor\u001b[39;00m i, (new,prev) \u001b[39min\u001b[39;00m \u001b[39menumerate\u001b[39m(\u001b[39mzip\u001b[39m(good_new,good_prev)):\n\u001b[0;32m     21\u001b[0m     \u001b[39m#now caluclate x,y\u001b[39;00m\n",
      "\u001b[1;31mTypeError\u001b[0m: 'NoneType' object is not subscriptable"
     ]
    },
    {
     "ename": "",
     "evalue": "",
     "output_type": "error",
     "traceback": [
      "\u001b[1;31mThe Kernel crashed while executing code in the the current cell or a previous cell. Please review the code in the cell(s) to identify a possible cause of the failure. Click <a href='https://aka.ms/vscodeJupyterKernelCrash'>here</a> for more info. View Jupyter <a href='command:jupyter.viewOutput'>log</a> for further details."
     ]
    }
   ],
   "source": [
    "cap=cv2.VideoCapture(0)  #0->cam  file path--> file\n",
    "ret, prev_frame=cap.read()\n",
    "\n",
    "prev_gray=cv2.cvtColor(prev_frame,cv2.COLOR_BGR2GRAY)\n",
    "\n",
    "#PTS TO TRACK \n",
    "prevPts=cv2.goodFeaturesToTrack(prev_gray,mask=None,**corner_track_params)\n",
    "\n",
    "#displays actaul ptas and tracks themm\n",
    "mask= np.zeros_like(prev_frame)\n",
    "#mask.reshape(prev_frame)\n",
    "\n",
    "while True:\n",
    "    ret,frame=cap.read()\n",
    "    frame_gray=cv2.cvtColor(frame,cv2.COLOR_BGR2GRAY)\n",
    "    nextPts ,status,err=cv2.calcOpticalFlowPyrLK(prev_gray,frame_gray,prevPts,None,**lk_params)\n",
    "    good_new=nextPts[status==1]\n",
    "    good_prev=prevPts[status==1]   #status-->flow for feature is found\n",
    "\n",
    "    for i, (new,prev) in enumerate(zip(good_new,good_prev)):\n",
    "        #now caluclate x,y\n",
    "        x_new,y_new=new.ravel()  #numpy method to flattend out the array\n",
    "        x_prev,y_prev=prev.ravel()\n",
    "        #feature containing the dected points\n",
    "        mask=cv2.line(mask,pt1=(int(x_new),int(y_new)),pt2=(int(x_prev),int(y_prev)),color=(0,255,0),thickness=3)\n",
    "        frame=cv2.circle(frame,(int(x_new),int(y_new)),8,(255,0,0),-1) #new points pr dots \n",
    "\n",
    "    img=cv2.add(frame,mask)\n",
    "    cv2.imshow('tracking.',img)  \n",
    "    k=cv2.waitKey(30) & 0xFF\n",
    "    if k==27:\n",
    "        break\n",
    "    prev_frame=frame_gray.copy()\n",
    "    prevPts=good_new.reshape(-1,1,2)\n",
    "\n",
    "cv2.destroyAllWindows()\n",
    "cap.release()\n",
    "\n",
    "\n",
    "\n",
    "\n",
    "\n",
    "\n"
   ]
  },
  {
   "cell_type": "code",
   "execution_count": null,
   "metadata": {},
   "outputs": [],
   "source": [
    "\n",
    "#dense optical flow-->highlight the points that rae moving "
   ]
  }
 ],
 "metadata": {
  "kernelspec": {
   "display_name": "Python 3",
   "language": "python",
   "name": "python3"
  },
  "language_info": {
   "codemirror_mode": {
    "name": "ipython",
    "version": 3
   },
   "file_extension": ".py",
   "mimetype": "text/x-python",
   "name": "python",
   "nbconvert_exporter": "python",
   "pygments_lexer": "ipython3",
   "version": "3.9.13"
  },
  "orig_nbformat": 4
 },
 "nbformat": 4,
 "nbformat_minor": 2
}
