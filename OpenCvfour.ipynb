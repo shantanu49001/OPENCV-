{
 "cells": [
  {
   "cell_type": "code",
   "execution_count": 1,
   "metadata": {},
   "outputs": [],
   "source": [
    "import cv2\n",
    "import numpy as np\n",
    "\n",
    "\n",
    "####function\n",
    "def drawCicrlce(event,x,y,flags,param):\n",
    "    if event == cv2.EVENT_LBUTTONDOWN:\n",
    "        cv2.circle(img,(x,y),100,color=(255,0,0),thickness=-1)\n",
    "\n",
    "    \n",
    "cv2.namedWindow(winname= 'myDrwaing')\n",
    "cv2.setMouseCallback('myDrwaing',drawCicrlce)  #connecting unction to the openCV window \n",
    "\n",
    "\n",
    "#show image with openCV\n",
    "\n",
    "\n",
    "img=np.zeros((512,512,3),dtype=np.int8)\n",
    "\n",
    "while True:\n",
    "    cv2.imshow('myDrwaing',img)\n",
    "    if cv2.waitKey(20) & 0xFF==27:\n",
    "        break\n",
    "cv2.destroyAllWindows()    "
   ]
  }
 ],
 "metadata": {
  "kernelspec": {
   "display_name": "Python 3",
   "language": "python",
   "name": "python3"
  },
  "language_info": {
   "codemirror_mode": {
    "name": "ipython",
    "version": 3
   },
   "file_extension": ".py",
   "mimetype": "text/x-python",
   "name": "python",
   "nbconvert_exporter": "python",
   "pygments_lexer": "ipython3",
   "version": "3.9.13"
  },
  "orig_nbformat": 4
 },
 "nbformat": 4,
 "nbformat_minor": 2
}
