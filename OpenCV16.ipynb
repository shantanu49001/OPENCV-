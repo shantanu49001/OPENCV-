{
 "cells": [
  {
   "cell_type": "code",
   "execution_count": 1,
   "metadata": {},
   "outputs": [],
   "source": [
    "import cv2\n",
    "cap=cv2.VideoCapture(0)  #defualt video cam else file path\n",
    "\n",
    "##callback funcion\n",
    "def draw_rectangle(event,x,y,flags,param):\n",
    "    global pt1,pt2,topLeft_clciked,botRight_clicked\n",
    "   # pass\n",
    "    if event==cv2.EVENT_LBUTTONDOWN:\n",
    "       if topLeft_clciked ==True and botRight_clicked ==True: #alread drawn reset it\n",
    "          pt1=(0,0)\n",
    "          pt2=(0,0)\n",
    "          topLeft_clciked=False\n",
    "          botRight_clicked=False\n",
    "       if topLeft_clciked ==False:\n",
    "          pt1=(x,y)\n",
    "          topLeft_clciked=True\n",
    "       elif botRight_clicked==False:\n",
    "          pt2 =(x,y)\n",
    "          botRight_clicked=True   \n",
    "\n",
    "            \n",
    "       \n",
    "\n",
    "\n",
    "##global vars \n",
    "pt1=(0,0)\n",
    "pt2=(0,0)\n",
    "topLeft_clciked=False\n",
    "botRight_clicked=False\n",
    "\n",
    "#connect t call back\n",
    "cap=cv2.VideoCapture(0)\n",
    "cv2.namedWindow('Test')\n",
    "cv2.setMouseCallback('Test',draw_rectangle)\n",
    "\n",
    "\n",
    "while True:\n",
    "    ret,frame=cap.read()    #draw based on callbacks\n",
    "    if topLeft_clciked:\n",
    "     cv2.circle(frame,center=pt1,radius=5,color=(0,0,255),thickness=-1) #open cv bgr\n",
    "    if topLeft_clciked and botRight_clicked:\n",
    "       cv2.rectangle(frame,pt1,pt2,(0,0,255),3)\n",
    "\n",
    "    cv2.imshow('Test',frame)  #firs ect then frame \n",
    "    if cv2.waitKey(1) & 0xFF == ord('q'):\n",
    "        break\n",
    "cap.release()\n",
    "cv2.destroyAllWindows()    "
   ]
  }
 ],
 "metadata": {
  "kernelspec": {
   "display_name": "Python 3",
   "language": "python",
   "name": "python3"
  },
  "language_info": {
   "codemirror_mode": {
    "name": "ipython",
    "version": 3
   },
   "file_extension": ".py",
   "mimetype": "text/x-python",
   "name": "python",
   "nbconvert_exporter": "python",
   "pygments_lexer": "ipython3",
   "version": "3.9.13"
  },
  "orig_nbformat": 4
 },
 "nbformat": 4,
 "nbformat_minor": 2
}
