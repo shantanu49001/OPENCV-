{
 "cells": [
  {
   "cell_type": "code",
   "execution_count": 17,
   "metadata": {},
   "outputs": [
    {
     "name": "stdout",
     "output_type": "stream",
     "text": [
      "None\n",
      "[95]\n"
     ]
    },
    {
     "data": {
      "text/plain": [
       "1"
      ]
     },
     "execution_count": 17,
     "metadata": {},
     "output_type": "execute_result"
    }
   ],
   "source": [
    "#all images will be arras\n",
    "import numpy as np\n",
    "\n",
    "#creating array:\n",
    "myList=[1,2,3]   #this is a list \n",
    "type(myList)\n",
    "myarray=np.array(myList)   #chaging list to array\n",
    "type(myarray)    #numoy.ndarray\n",
    "res = np.arange(0, 10)    # 0->9 value ka array \n",
    "ress=np.arange(0,10,2)  #step size\n",
    "a=np.zeros(shape=(5,5))   # 5x5 ka matrix with all 0\n",
    " #same for ones   1. and 0,.\n",
    "\n",
    "b=np.random.seed(101)  #create same random no eah time \n",
    "print(b)\n",
    "\n",
    "arr=np.random.randint(0,100,1)  #random in low include high exclide\n",
    "print(arr)\n",
    "\n",
    "arr.max()\n",
    "arr.argmax()  #index of max from array\n",
    "arr.mean()\n",
    "\n",
    "#resahpe the arrar\n",
    "#arr.reshape((2,5))  # 2 rows 5 col      but elemnt utne hi hone hhaiye \n",
    "\n",
    "\n",
    "mat=np.arange(0,100).reshape(10,10)\n",
    "mat  # 0->9  ;  10->19\n",
    "\n",
    "mat[0,1]   \n",
    "mat[:,1]    #every row ka 1st col element \n",
    "mat[0:3,0:3]  #all rows from 0->3 and all col from 0>3\n",
    "\n",
    "myewmat=mat.copy()  #copyinh all elements to new matrix\n",
    "\n",
    "\n",
    "\n"
   ]
  }
 ],
 "metadata": {
  "kernelspec": {
   "display_name": "Python 3",
   "language": "python",
   "name": "python3"
  },
  "language_info": {
   "codemirror_mode": {
    "name": "ipython",
    "version": 3
   },
   "file_extension": ".py",
   "mimetype": "text/x-python",
   "name": "python",
   "nbconvert_exporter": "python",
   "pygments_lexer": "ipython3",
   "version": "3.9.13"
  },
  "orig_nbformat": 4
 },
 "nbformat": 4,
 "nbformat_minor": 2
}
