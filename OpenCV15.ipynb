{
 "cells": [
  {
   "cell_type": "code",
   "execution_count": 1,
   "metadata": {},
   "outputs": [],
   "source": [
    "import cv2\n",
    "cap=cv2.VideoCapture(0)  #defualt video cam else file path\n",
    "\n",
    "width=int(cap.get(cv2.CAP_PROP_FRAME_WIDTH))\n",
    "height=int(cap.get(cv2.CAP_PROP_FRAME_HEIGHT))\n",
    "\n",
    "#top left c\n",
    "x=width //2   #// for int \n",
    "y=height //2\n",
    "\n",
    "#wifht and heiht\n",
    "w=width // 4\n",
    "\n",
    "h= height // 4\n",
    "\n",
    "\n",
    "#bottom riht corner \n",
    "#these x,y just change by object \n",
    "\n",
    "while True:\n",
    "    ret,frame=cap.read()\n",
    "    cv2.rectangle(frame,(x,y),(x+w,y+h),color= (0,0,255),thickness=4)\n",
    "    cv2.imshow('frame',frame)  #firs ect then frame \n",
    "    if cv2.waitKey(1) & 0xFF == ord('q'):\n",
    "        break\n",
    "cap.release()\n",
    "cv2.destroyAllWindows()    "
   ]
  }
 ],
 "metadata": {
  "kernelspec": {
   "display_name": "Python 3",
   "language": "python",
   "name": "python3"
  },
  "language_info": {
   "codemirror_mode": {
    "name": "ipython",
    "version": 3
   },
   "file_extension": ".py",
   "mimetype": "text/x-python",
   "name": "python",
   "nbconvert_exporter": "python",
   "pygments_lexer": "ipython3",
   "version": "3.9.13"
  },
  "orig_nbformat": 4
 },
 "nbformat": 4,
 "nbformat_minor": 2
}
