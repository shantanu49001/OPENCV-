{
 "cells": [
  {
   "cell_type": "code",
   "execution_count": 2,
   "metadata": {},
   "outputs": [],
   "source": [
    "#dense optical flow\n",
    "import cv2\n",
    "import numpy as np\n"
   ]
  },
  {
   "cell_type": "code",
   "execution_count": 5,
   "metadata": {},
   "outputs": [],
   "source": [
    "#this can be used for path detection-->k\n",
    "#ths code is useful to track motion in one drection as i showsd ifferent direction with diff color\n",
    "cap=cv2.VideoCapture(0)\n",
    "ret,frame1=cap.read()\n",
    "\n",
    "#we have to know work on the frama e aka 1 image given to us by cam\n",
    "\n",
    "\n",
    "prvsImg= cv2.cvtColor(frame1,cv2.COLOR_BGR2GRAY)\n",
    "\n",
    "hsv_mask=np.zeros_like(frame1)  #zeros like isliye coz sirf zeros karemge o sorf 32 size ka llowed hai \n",
    "hsv_mask[:,:,1]=255\n",
    "\n",
    "while True:\n",
    "    ret,frame2=cap.read()\n",
    "    nextImg=cv2.cvtColor(frame2,cv2.COLOR_BGR2GRAY)\n",
    "    flow=cv2.calcOpticalFlowFarneback(prvsImg,nextImg,None,0.5,3,15,3,5,1.2,0) #no of pyramids;layers,windowsize,iteations\n",
    "\n",
    "    #convert them vector pixl poits to polar so that thaey can be mapped to hue saturation\n",
    "    mag,ang=cv2.cartToPolar(flow[:,:,0],flow[:,:,1],angleInDegrees=True) #for each point grab horizontal and vertica info \n",
    "    #and then convert to magntude and angle\n",
    "\n",
    "    hsv_mask[:,:,0]=ang/2  #reduce no of hues\n",
    "    hsv_mask[:,:,2]=cv2.normalize(mag,None,0,255,cv2.NORM_MINMAX) #normalise it \n",
    "\n",
    "    #now the hsv cuclinder bgr image that we get \n",
    "\n",
    "    bgr=cv2.cvtColor(hsv_mask,cv2.COLOR_HSV2BGR)\n",
    "    cv2.imshow('frame',bgr)\n",
    "\n",
    "    k = cv2.waitKey(10) & 0xFF\n",
    "    if k==27:\n",
    "       break\n",
    "    prvsImg=nextImg\n",
    "\n",
    "cap.release()\n",
    "cv2.destroyAllWindows()\n",
    "\n",
    "\n"
   ]
  }
 ],
 "metadata": {
  "kernelspec": {
   "display_name": "Python 3",
   "language": "python",
   "name": "python3"
  },
  "language_info": {
   "codemirror_mode": {
    "name": "ipython",
    "version": 3
   },
   "file_extension": ".py",
   "mimetype": "text/x-python",
   "name": "python",
   "nbconvert_exporter": "python",
   "pygments_lexer": "ipython3",
   "version": "3.9.13"
  },
  "orig_nbformat": 4
 },
 "nbformat": 4,
 "nbformat_minor": 2
}
