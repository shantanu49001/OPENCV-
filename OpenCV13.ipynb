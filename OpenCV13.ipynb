{
 "cells": [
  {
   "cell_type": "code",
   "execution_count": 3,
   "metadata": {},
   "outputs": [],
   "source": [
    "#be sure that n other code must be habving req to camer a\n",
    "import cv2\n",
    "cap=cv2.VideoCapture(0)  #Returns series on images \n",
    "width=int(cap.get(cv2.CAP_PROP_FRAME_WIDTH))\n",
    "height=int(cap.get(cv2.CAP_PROP_FRAME_HEIGHT))\n",
    "\n",
    "#fourcc depends on os \n",
    "writer=cv2.VideoWriter('mysupervideo.mp4',cv2.VideoWriter_fourcc(*'DIVX'),20,(width,height))  #path bhi add \n",
    "\n",
    "\n",
    "while True:\n",
    "    ret,frame=cap.read()  #read series of images \n",
    "\n",
    "    #drwing \n",
    "\n",
    "    writer.write(frame)\n",
    "\n",
    "    gray=cv2.cvtColor(frame,cv2.COLOR_BGR2GRAY)\n",
    "    cv2.imshow('frame',frame)  #Relace it with frame with  colored \n",
    "\n",
    "    if cv2.waitKey(1) & 0xFF ==ord('q'): # q se exit\n",
    "        break\n",
    "\n",
    "cap.release() #stop capturing video\n",
    "writer.release()\n",
    "cv2.destroyAllWindows()\n"
   ]
  },
  {
   "cell_type": "code",
   "execution_count": null,
   "metadata": {},
   "outputs": [],
   "source": []
  }
 ],
 "metadata": {
  "kernelspec": {
   "display_name": "Python 3",
   "language": "python",
   "name": "python3"
  },
  "language_info": {
   "codemirror_mode": {
    "name": "ipython",
    "version": 3
   },
   "file_extension": ".py",
   "mimetype": "text/x-python",
   "name": "python",
   "nbconvert_exporter": "python",
   "pygments_lexer": "ipython3",
   "version": "3.9.13"
  },
  "orig_nbformat": 4
 },
 "nbformat": 4,
 "nbformat_minor": 2
}
