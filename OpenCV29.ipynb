{
 "cells": [
  {
   "cell_type": "code",
   "execution_count": 1,
   "metadata": {},
   "outputs": [],
   "source": [
    "#template to chosse the tracking api function\n",
    "#dl + OpenCV from nw\n",
    "import cv2\n"
   ]
  },
  {
   "cell_type": "code",
   "execution_count": 2,
   "metadata": {},
   "outputs": [],
   "source": [
    "def ask_for_tracker():\n",
    "    print(\"Welcome ! What tracker API would you like to use?\")\n",
    "    print(\"Enter 0 for BOOSTING\")\n",
    "    print(\"Enter 1 for MIL\")\n",
    "    print(\"Enter 2 for KCF\")\n",
    "    print(\"Enter 3 for TLD\")\n",
    "    print(\"Enter 4 for MEDIANFLOW\")\n",
    "    choice=input(\"Enter your choice\")\n",
    "\n",
    "    if choice=='0':\n",
    "        #names may be different check them tempte uses and tracks movif objects\n",
    "        tracker=cv2.TrackerDaSiamRPN().create()\n",
    "    if choice=='1':\n",
    "        tracker=cv2.TrackerNano().create()\n",
    "    if choice=='2':\n",
    "        tracker=cv2.TrackerMIL().create()\n",
    "   # if choice=='3':\n",
    "     #   tracker=cv2.TrackerTLD_create()\n",
    "   # if choice=='4':\n",
    "      #  tracker=cv2.TrackerMedianFlow_create()\n",
    "    return tracker                    "
   ]
  },
  {
   "cell_type": "code",
   "execution_count": 3,
   "metadata": {},
   "outputs": [
    {
     "name": "stdout",
     "output_type": "stream",
     "text": [
      "Welcome ! What tracker API would you like to use?\n",
      "Enter 0 for BOOSTING\n",
      "Enter 1 for MIL\n",
      "Enter 2 for KCF\n",
      "Enter 3 for TLD\n",
      "Enter 4 for MEDIANFLOW\n"
     ]
    },
    {
     "ename": "error",
     "evalue": "OpenCV(4.8.0) D:\\a\\opencv-python\\opencv-python\\opencv\\modules\\video\\src\\tracking\\detail\\tracking_feature.cpp:128: error: (-215:Assertion failed) !patchSize.empty() in function 'cv::detail::tracking::feature::CvHaarEvaluator::FeatureHaar::generateRandomFeature'\n",
     "output_type": "error",
     "traceback": [
      "\u001b[1;31m---------------------------------------------------------------------------\u001b[0m",
      "\u001b[1;31merror\u001b[0m                                     Traceback (most recent call last)",
      "Cell \u001b[1;32mIn[3], line 8\u001b[0m\n\u001b[0;32m      5\u001b[0m ret,frame\u001b[39m=\u001b[39mcap\u001b[39m.\u001b[39mread()\n\u001b[0;32m      7\u001b[0m roi\u001b[39m=\u001b[39mcv2\u001b[39m.\u001b[39mselectROI(frame,\u001b[39mFalse\u001b[39;00m)\n\u001b[1;32m----> 8\u001b[0m ret\u001b[39m=\u001b[39mtracker\u001b[39m.\u001b[39;49minit(frame,roi)\n\u001b[0;32m      9\u001b[0m \u001b[39mwhile\u001b[39;00m \u001b[39mTrue\u001b[39;00m:\n\u001b[0;32m     10\u001b[0m     ret,frame\u001b[39m=\u001b[39mcap\u001b[39m.\u001b[39mread()\n",
      "\u001b[1;31merror\u001b[0m: OpenCV(4.8.0) D:\\a\\opencv-python\\opencv-python\\opencv\\modules\\video\\src\\tracking\\detail\\tracking_feature.cpp:128: error: (-215:Assertion failed) !patchSize.empty() in function 'cv::detail::tracking::feature::CvHaarEvaluator::FeatureHaar::generateRandomFeature'\n"
     ]
    }
   ],
   "source": [
    "#str(tracker).split()[0][1:]\n",
    "tracker=ask_for_tracker()\n",
    "tracker_name=str(tracker).split()[0][:1]\n",
    "cap=cv2.VideoCapture(0)\n",
    "ret,frame=cap.read()\n",
    "\n",
    "roi=cv2.selectROI(frame,False)\n",
    "ret=tracker.init(frame,roi)\n",
    "while True:\n",
    "    ret,frame=cap.read()\n",
    "    sucess,roi=tracker.update(frame)\n",
    "\n",
    "    (x,y,w,h)=tuple(map(int,roi))\n",
    "\n",
    "    if sucess:\n",
    "        p1=(x,y)\n",
    "        p2=(x+w,y+h)\n",
    "        cv2.rectangle(frame,p1,p2,(0,255,0),3)\n",
    "    else:\n",
    "        cv2.putText(frame,'Fail',(100,100),cv2.FONT_HERSHEY_COMPLEX,1)\n",
    "\n",
    "    cv2.imshow(tracker_name,frame)\n",
    "    k=cv2.waitKey(1) & 0xff\n",
    "    if k==27:\n",
    "        break\n",
    "\n",
    "cap.release()\n",
    "cv2.destroyAllWindows()\n",
    "\n",
    "\n",
    "\n"
   ]
  }
 ],
 "metadata": {
  "kernelspec": {
   "display_name": "Python 3",
   "language": "python",
   "name": "python3"
  },
  "language_info": {
   "codemirror_mode": {
    "name": "ipython",
    "version": 3
   },
   "file_extension": ".py",
   "mimetype": "text/x-python",
   "name": "python",
   "nbconvert_exporter": "python",
   "pygments_lexer": "ipython3",
   "version": "3.9.13"
  },
  "orig_nbformat": 4
 },
 "nbformat": 4,
 "nbformat_minor": 2
}
